{
 "cells": [
  {
   "cell_type": "markdown",
   "id": "cdfa5c31-9c5c-4636-bb7f-d944a6b75297",
   "metadata": {},
   "source": [
    "# Big Animal demo"
   ]
  },
  {
   "cell_type": "markdown",
   "id": "6e4f58bd-183a-4228-879f-fe1ef137e87e",
   "metadata": {},
   "source": [
    "## Demo prep"
   ]
  },
  {
   "cell_type": "markdown",
   "id": "ef8a070b-d5df-4925-b082-52e1cfe908e4",
   "metadata": {},
   "source": [
    "Log in to Big Animal using OKTA"
   ]
  },
  {
   "attachments": {},
   "cell_type": "markdown",
   "id": "10105173-7ad9-4623-9cb9-e4610ba5e285",
   "metadata": {},
   "source": [
    "Make sure the CLI is authenticated against AWS and Azure"
   ]
  },
  {
   "cell_type": "code",
   "execution_count": null,
   "id": "5becdc41-33e7-4ed6-8d83-87d4e44bb58c",
   "metadata": {},
   "outputs": [],
   "source": [
    "biganimal credential create --name “ton”"
   ]
  },
  {
   "cell_type": "code",
   "execution_count": null,
   "id": "5c8dedb0-1e1e-448d-8ec2-eaef8e570868",
   "metadata": {},
   "outputs": [],
   "source": [
    "biganimal config set confirm_mode off"
   ]
  },
  {
   "cell_type": "code",
   "execution_count": null,
   "id": "1cf5406e-0a59-4f1b-ad35-b6daacf8b80d",
   "metadata": {},
   "outputs": [],
   "source": [
    "source ./.profile_terraform"
   ]
  },
  {
   "cell_type": "code",
   "execution_count": null,
   "id": "d17f9192-8359-4c60-9d2c-168d82037583",
   "metadata": {},
   "outputs": [],
   "source": [
    "ba_api_get_call"
   ]
  },
  {
   "cell_type": "code",
   "execution_count": null,
   "id": "ee0d00fc-df40-4501-8eb4-056b2be6c49c",
   "metadata": {},
   "outputs": [],
   "source": [
    "export_BA_env_vars"
   ]
  },
  {
   "cell_type": "code",
   "execution_count": null,
   "id": "7e1034c1-f902-43e4-ab7c-0f14863a2536",
   "metadata": {},
   "outputs": [],
   "source": [
    "EXPORT TF_VAR_cluster_name=tons_tf_cluster"
   ]
  },
  {
   "cell_type": "code",
   "execution_count": null,
   "id": "2f7d7dec-f10e-490d-b5c8-9cb2c6cdbf3c",
   "metadata": {},
   "outputs": [],
   "source": [
    "Terraform init"
   ]
  },
  {
   "cell_type": "markdown",
   "id": "7d1ce93e-90cc-4e9d-8315-533e5de5c91e",
   "metadata": {},
   "source": [
    "## Demo flow"
   ]
  },
  {
   "cell_type": "markdown",
   "id": "30d1d4ca-9c7b-4c70-a523-44a40918e970",
   "metadata": {},
   "source": [
    "### Web UI"
   ]
  },
  {
   "cell_type": "markdown",
   "id": "fddc09a4-7585-4326-bfd6-6480a7553f74",
   "metadata": {},
   "source": [
    "Create new cluster\n",
    "\n",
    "Explain the three cluster option\n",
    "- Single node – Storage is separate. If the node goes down, a new Postgres node will be spun up and the storage will be attached again\n",
    "- HA - Critical\n",
    "- Distributed - In select use cases\n",
    "\n",
    "Select HA with two replicas\n",
    "\n",
    "Select AWS \n",
    "- Show costs between the three options.\n",
    "\n",
    "Give name and password\n",
    "- Explain that the password is used in the connection string later\n",
    "\n",
    "Explain difference between Oracle compatible and PostgreSQL\n",
    "\n",
    "Select version\n",
    "\n",
    "Select region, instance type\n",
    "\n",
    "Select storage\n",
    "- Speed is important\n",
    "\n",
    "Explain networking\n",
    "- Recommended is Public with access lists\n",
    "\n",
    "Press Next: DB Configuration\n",
    "\n",
    "Show the massive amount of parameters you have control over.c\n",
    "- Explain db_dialect on page 3\n",
    "- Explain warning signs\n",
    "\n",
    "Press Next: Backups\n",
    "- BigAnimal clusters are continuously backed up by BigAnimal. \n",
    "- Backups are stored in cloud native storage (S3 or Azure Bob Storage)\n",
    "- Retention period can be changed, but this results in a higher cloud storage costs.\n",
    "\n",
    "Create cluster"
   ]
  },
  {
   "cell_type": "markdown",
   "id": "76e96585-ba9e-4884-97dd-94cd8ab8924d",
   "metadata": {},
   "source": [
    "## CLI"
   ]
  },
  {
   "cell_type": "markdown",
   "id": "d60fc67a-754d-4c90-9591-c12b6071f5c3",
   "metadata": {
    "scrolled": true
   },
   "source": [
    "`biganimal cluster create` (interactive)"
   ]
  },
  {
   "cell_type": "code",
   "execution_count": null,
   "id": "fd1c98fd-9cf9-4447-853d-a44cfd814ff8",
   "metadata": {},
   "outputs": [],
   "source": [
    "cat config_file.yaml"
   ]
  },
  {
   "cell_type": "code",
   "execution_count": null,
   "id": "6f7440e5-e1bc-45e0-b103-63c1939c25d0",
   "metadata": {},
   "outputs": [],
   "source": [
    "biganimal cluster create -F config_file.yaml"
   ]
  },
  {
   "cell_type": "code",
   "execution_count": null,
   "id": "9a3159bf-9116-4e94-8594-aa9d18cbbb0b",
   "metadata": {},
   "outputs": [],
   "source": [
    "biganimal cluster show"
   ]
  },
  {
   "cell_type": "markdown",
   "id": "34079068-46f2-4068-8cb8-c485863a0322",
   "metadata": {},
   "source": [
    "## Terraform"
   ]
  },
  {
   "cell_type": "code",
   "execution_count": null,
   "id": "acec7955-0857-4bff-a43d-bf71575517b2",
   "metadata": {},
   "outputs": [],
   "source": [
    "cat resource-rs.tf"
   ]
  },
  {
   "cell_type": "code",
   "execution_count": null,
   "id": "b15ab6d2-f036-4a30-8c8d-7b7e465f5111",
   "metadata": {},
   "outputs": [],
   "source": [
    "terraform init"
   ]
  },
  {
   "cell_type": "code",
   "execution_count": null,
   "id": "57b2c097-b96c-445d-b7d6-657659db6654",
   "metadata": {},
   "outputs": [],
   "source": [
    "terraform plan"
   ]
  },
  {
   "cell_type": "markdown",
   "id": "99f25ab0-8a50-4998-8cab-8a46393b3c3f",
   "metadata": {},
   "source": [
    "## Demo Cleanup"
   ]
  },
  {
   "cell_type": "code",
   "execution_count": null,
   "id": "52b2f3a8-8214-4c3c-8fd2-5bfa37a56797",
   "metadata": {},
   "outputs": [],
   "source": [
    "terraform destroy --auto-approve"
   ]
  },
  {
   "cell_type": "code",
   "execution_count": null,
   "id": "8f1ec1d2-c5ac-4890-a1dd-88fa7671e19d",
   "metadata": {},
   "outputs": [],
   "source": [
    "biganimal cluster delete --id <put id here>"
   ]
  }
 ],
 "metadata": {
  "kernelspec": {
   "display_name": "Bash",
   "language": "bash",
   "name": "bash"
  },
  "language_info": {
   "codemirror_mode": "shell",
   "file_extension": ".sh",
   "mimetype": "text/x-sh",
   "name": "bash"
  }
 },
 "nbformat": 4,
 "nbformat_minor": 5
}
